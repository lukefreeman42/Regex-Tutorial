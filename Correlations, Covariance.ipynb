{
 "cells": [
  {
   "cell_type": "markdown",
   "metadata": {},
   "source": [
    "# Covariance\n",
    "\n",
    "Covariance is one of a family of statistical measures used to analyze the linear relationship between two variables. How do they move in relation to each other.\n",
    "\n",
    "You find the covariance matrix to understand how two explanatory variables behave as a pair. The coraviance does not tell the Strength of a relationship, only a positive, negative, or near 0.\n",
    "\n",
    "The diagonal of a covariance mtrix provides the variance of each individual variable. Variance is the STD squared and represents the measure of how far a set of numbers are from their mean.\n",
    "\n",
    "Covariance is not standardized."
   ]
  },
  {
   "cell_type": "code",
   "execution_count": 2,
   "metadata": {},
   "outputs": [],
   "source": [
    "#understand the difference between population and sample covariance"
   ]
  },
  {
   "cell_type": "markdown",
   "metadata": {},
   "source": [
    "# Correlation\n",
    "\n",
    "Correlation provides Direction and Strength of a relationship between two variables. Correlation is always between -1 and +1 and its scale is independent of the scale of the variables themselves.\n",
    "\n",
    "Correlation is standardized. Correlation is only applicable to Linear Relationships. Correlation strength does not necessarily mean the correlation is statistically significant.\n",
    "\n",
    "r is the Pearson correlation coefficient.\n",
    "\n",
    "r = covariance(x, y) / std(x) * std(y)\n"
   ]
  },
  {
   "cell_type": "code",
   "execution_count": null,
   "metadata": {},
   "outputs": [],
   "source": []
  }
 ],
 "metadata": {
  "kernelspec": {
   "display_name": "Python 3",
   "language": "python",
   "name": "python3"
  },
  "language_info": {
   "codemirror_mode": {
    "name": "ipython",
    "version": 3
   },
   "file_extension": ".py",
   "mimetype": "text/x-python",
   "name": "python",
   "nbconvert_exporter": "python",
   "pygments_lexer": "ipython3",
   "version": "3.7.3"
  }
 },
 "nbformat": 4,
 "nbformat_minor": 2
}
