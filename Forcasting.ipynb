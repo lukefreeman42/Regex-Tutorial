{
 "cells": [
  {
   "cell_type": "markdown",
   "metadata": {},
   "source": [
    "# Forecasting Time Series\n",
    "\n",
    "* Time-Series Forecasting is a unique type of regression where the only features are time, and the feature we are predicting for.\n",
    "\n",
    "Market demand forecasting is a critical process for any business in consumer packaged goods. Inventory, production, storage, shipping, marketing – every facet of CPG and retail companies’ operations are affected by accurate forecasting.\n",
    "\n",
    "How do you know how much of product X to buy? It expires in 2 weeks, you loose money going over and under demand.\n",
    "\n",
    "Maybe you have 20 warehouses but only really need 10 if you knew you the trends in demand."
   ]
  },
  {
   "cell_type": "markdown",
   "metadata": {},
   "source": [
    "### Real-World Example 1)\n",
    "\n",
    "A Middle Eastern company is responsible for daily distribution of over 230 million liters of oil products. For this distribution network, a failure scenario is defined as an occurring when oil transport is interrupted or slows down, and/or when products demands fluctuates outside the normal range.\n",
    "\n",
    "Under all failure scenarios, the company plans to provide additional transport capacity at minimum cost so as to meet all point-to point product demands. Currently, the company uses a wait-and-see strategy, which carries a high operating cost and depends on the availability of third-party transportation. Using advanced forecasting methods will allow risks to be optimized, failure scenarios more accurately predicted and lead to better more cost-effective responses."
   ]
  },
  {
   "cell_type": "markdown",
   "metadata": {},
   "source": [
    "### Real-World Example 2)\n",
    "\n",
    "Kleenex consumer products business has reduced the number of plants it operates from 19 to 15 and warehouses from 80 to 25. This was due to the switch from supply focus to demand focus, a switch that can only be done with very accurate demand forecasting."
   ]
  },
  {
   "cell_type": "markdown",
   "metadata": {},
   "source": [
    "### Real-World Example 3)\n",
    "\n",
    "Forecasting can also be used to predict large scale infrastructure projects. An example being in Tanzania the population largely relies on water pumps, which need to be inspected. Insted of waiting for one to break, have the village complain, and then send someone out (wait and see). We can use Forecasting to predict which pumps are more likely to be damaged, and premptively send inspectors to those locations first."
   ]
  },
  {
   "cell_type": "markdown",
   "metadata": {},
   "source": [
    "# Using FB Prophet\n",
    "\n",
    "Prophet is an additive regression model. An additive regression model differs from a linear regression model in the fact that instead of using scalars(m) to alter the line, they use custom functions(f).\n",
    "\n",
    "Linear regression:\n",
    "\n",
    "y = m_1 a + m_2 b + m_3 c .... + z\n",
    "\n",
    "Additive regression:\n",
    "\n",
    "y = f_1(a) + f_2(b) + f_3(c).... + z"
   ]
  },
  {
   "cell_type": "markdown",
   "metadata": {},
   "source": [
    "### Making Data easier to digest for Prophet\n",
    "\n",
    "Reduce the outliers on data by putting it all on a log scale."
   ]
  },
  {
   "cell_type": "markdown",
   "metadata": {},
   "source": [
    "#### Stationary Data\n",
    "\n",
    "Data where each window/view/slice has very similar averages"
   ]
  },
  {
   "cell_type": "code",
   "execution_count": null,
   "metadata": {},
   "outputs": [],
   "source": []
  },
  {
   "cell_type": "code",
   "execution_count": null,
   "metadata": {},
   "outputs": [],
   "source": []
  },
  {
   "cell_type": "code",
   "execution_count": null,
   "metadata": {},
   "outputs": [],
   "source": []
  },
  {
   "cell_type": "code",
   "execution_count": null,
   "metadata": {},
   "outputs": [],
   "source": []
  },
  {
   "cell_type": "code",
   "execution_count": null,
   "metadata": {},
   "outputs": [],
   "source": []
  },
  {
   "cell_type": "code",
   "execution_count": null,
   "metadata": {},
   "outputs": [],
   "source": []
  },
  {
   "cell_type": "code",
   "execution_count": null,
   "metadata": {},
   "outputs": [],
   "source": []
  },
  {
   "cell_type": "code",
   "execution_count": null,
   "metadata": {},
   "outputs": [],
   "source": []
  }
 ],
 "metadata": {
  "kernelspec": {
   "display_name": "Python 3",
   "language": "python",
   "name": "python3"
  },
  "language_info": {
   "codemirror_mode": {
    "name": "ipython",
    "version": 3
   },
   "file_extension": ".py",
   "mimetype": "text/x-python",
   "name": "python",
   "nbconvert_exporter": "python",
   "pygments_lexer": "ipython3",
   "version": "3.7.3"
  }
 },
 "nbformat": 4,
 "nbformat_minor": 2
}
