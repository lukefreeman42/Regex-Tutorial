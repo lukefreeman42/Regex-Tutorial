{
 "cells": [
  {
   "cell_type": "markdown",
   "metadata": {},
   "source": [
    "# MetaCharacters:\n",
    "\n",
    ".  -any character except NL <hr/> \n",
    "\\d -digit(0-9) <hr/>\n",
    "\\w -(a-z, A-Z, 0-9,_ ) <hr/>\n",
    "\\s -whitespace <hr/>\n",
    "\\b -word boundry <hr/>\n",
    "^ -beginning of a string <hr/>\n",
    "$ -end of string <hr/>\n",
    "\n",
    "[] -matches characters inside EX: [a-z] <hr/>\n",
    "[^] -matches characters not inside <hr/>\n",
    "| - either or <hr/>\n",
    "() - Group"
   ]
  },
  {
   "cell_type": "markdown",
   "metadata": {},
   "source": [
    "# Quantifiers\n",
    "\n",
    "\\* -0 or more <hr/>\n",
    "\\+ -1 or more <hr/>\n",
    "? -0 or 1 <hr/>\n",
    "{3} -exact number <hr/>\n",
    "{3,4} -range (min, max)"
   ]
  },
  {
   "cell_type": "code",
   "execution_count": 2,
   "metadata": {},
   "outputs": [],
   "source": [
    "import re"
   ]
  },
  {
   "cell_type": "code",
   "execution_count": 3,
   "metadata": {},
   "outputs": [],
   "source": [
    "search_me = 'This is what abc searches for.'"
   ]
  },
  {
   "cell_type": "markdown",
   "metadata": {},
   "source": [
    "### Raw Strings"
   ]
  },
  {
   "cell_type": "code",
   "execution_count": 4,
   "metadata": {},
   "outputs": [
    {
     "name": "stdout",
     "output_type": "stream",
     "text": [
      "<re.Match object; span=(13, 16), match='abc'>\n"
     ]
    }
   ],
   "source": [
    "pattern = re.compile(r'abc') #r == raw string\n",
    "\n",
    "matches = pattern.finditer(search_me)\n",
    "for match in matches:\n",
    "    print(match)"
   ]
  },
  {
   "cell_type": "code",
   "execution_count": 5,
   "metadata": {},
   "outputs": [
    {
     "data": {
      "text/plain": [
       "'abc'"
      ]
     },
     "execution_count": 5,
     "metadata": {},
     "output_type": "execute_result"
    }
   ],
   "source": [
    "#the span represents the location of the match within the string\n",
    "search_me[13:16]"
   ]
  },
  {
   "cell_type": "markdown",
   "metadata": {},
   "source": [
    "### Escaping Metacharacters"
   ]
  },
  {
   "cell_type": "code",
   "execution_count": 6,
   "metadata": {},
   "outputs": [
    {
     "data": {
      "text/plain": [
       "(30, 1)"
      ]
     },
     "execution_count": 6,
     "metadata": {},
     "output_type": "execute_result"
    }
   ],
   "source": [
    "#metacharacters must be escaped\n",
    "pattern1 = re.compile(r'.') \n",
    "pattern2 = re.compile(r'\\.') #escaped\n",
    "\n",
    "matches1 = pattern1.finditer(search_me)\n",
    "matches2 = pattern2.finditer(search_me)\n",
    "\n",
    "len(list(matches1)), len(list(matches2))"
   ]
  },
  {
   "cell_type": "markdown",
   "metadata": {},
   "source": [
    "### Using WordBoundries"
   ]
  },
  {
   "cell_type": "code",
   "execution_count": 7,
   "metadata": {},
   "outputs": [
    {
     "name": "stdout",
     "output_type": "stream",
     "text": [
      "<re.Match object; span=(0, 2), match='Ha'>\n",
      "<re.Match object; span=(3, 5), match='Ha'>\n"
     ]
    }
   ],
   "source": [
    "search_me = 'Ha HaHa'\n",
    "\n",
    "pattern = re.compile(r'\\bHa')\n",
    "\n",
    "matches = pattern.finditer(search_me)\n",
    "for match in matches:\n",
    "    print(match)"
   ]
  },
  {
   "cell_type": "code",
   "execution_count": 8,
   "metadata": {},
   "outputs": [
    {
     "name": "stdout",
     "output_type": "stream",
     "text": [
      "<re.Match object; span=(5, 7), match='Ha'>\n"
     ]
    }
   ],
   "source": [
    "pattern = re.compile(r'\\BHa') #matches NON-Wordboundry HA\n",
    "\n",
    "matches = pattern.finditer(search_me)\n",
    "for match in matches:\n",
    "    print(match)"
   ]
  },
  {
   "cell_type": "markdown",
   "metadata": {},
   "source": [
    "### Beginning and End of String"
   ]
  },
  {
   "cell_type": "code",
   "execution_count": 9,
   "metadata": {},
   "outputs": [
    {
     "name": "stdout",
     "output_type": "stream",
     "text": [
      "<re.Match object; span=(0, 5), match='Start'>\n"
     ]
    }
   ],
   "source": [
    "#beginning\n",
    "search_me = 'Start me here. Start me there. The end. The end.'\n",
    "\n",
    "pattern = re.compile(r'^Start') #will not match second Start\n",
    "\n",
    "matches = pattern.finditer(search_me)\n",
    "for match in matches:\n",
    "    print(match)"
   ]
  },
  {
   "cell_type": "code",
   "execution_count": 10,
   "metadata": {},
   "outputs": [
    {
     "name": "stdout",
     "output_type": "stream",
     "text": [
      "<re.Match object; span=(44, 48), match='end.'>\n"
     ]
    }
   ],
   "source": [
    "#end\n",
    "search_me = 'Start me here. Start me there. The end. The end.'\n",
    "\n",
    "pattern = re.compile(r'end.$') #will not match first end\n",
    "\n",
    "matches = pattern.finditer(search_me)\n",
    "for match in matches:\n",
    "    print(match)"
   ]
  },
  {
   "cell_type": "markdown",
   "metadata": {},
   "source": [
    "### Using Quantifiers"
   ]
  },
  {
   "cell_type": "code",
   "execution_count": 11,
   "metadata": {},
   "outputs": [
    {
     "name": "stdout",
     "output_type": "stream",
     "text": [
      "<re.Match object; span=(0, 12), match='123-456-7890'>\n",
      "<re.Match object; span=(27, 39), match='890.123.4567'>\n"
     ]
    }
   ],
   "source": [
    "search_me = \"123-456-7890 456-.789-0123 890.123.4567 999*999*9999\"\n",
    "\n",
    "pattern = re.compile(r'\\d{3}[-.]\\d{3}[-.]\\d{4}') \n",
    "#no need to escape meta in character set []\n",
    "#character set only matches 1 character\n",
    "\n",
    "matches = pattern.finditer(search_me)\n",
    "for match in matches:\n",
    "    print(match)"
   ]
  },
  {
   "cell_type": "code",
   "execution_count": 12,
   "metadata": {},
   "outputs": [
    {
     "name": "stdout",
     "output_type": "stream",
     "text": [
      "<re.Match object; span=(0, 3), match='cat'>\n",
      "<re.Match object; span=(7, 11), match=' hat'>\n",
      "<re.Match object; span=(12, 16), match='spat'>\n",
      "<re.Match object; span=(16, 20), match=' lat'>\n",
      "<re.Match object; span=(20, 24), match=' rat'>\n"
     ]
    }
   ],
   "source": [
    "search_me = \"cat bat hat spat lat rat\"\n",
    "\n",
    "pattern = re.compile(r'.?[^b]at\\b') \n",
    "#.? states it can be 1 or 0 of any character before [^b]\n",
    "\n",
    "matches = pattern.finditer(search_me)\n",
    "for match in matches:\n",
    "    print(match)"
   ]
  },
  {
   "cell_type": "markdown",
   "metadata": {},
   "source": [
    "### Using Character Sets"
   ]
  },
  {
   "cell_type": "code",
   "execution_count": 14,
   "metadata": {},
   "outputs": [
    {
     "name": "stdout",
     "output_type": "stream",
     "text": [
      "<re.Match object; span=(0, 5), match='Mr. T'>\n",
      "<re.Match object; span=(6, 19), match='Mrs. Robinson'>\n",
      "<re.Match object; span=(20, 28), match='Mr Smith'>\n",
      "<re.Match object; span=(29, 40), match='Mr. Freeman'>\n",
      "<re.Match object; span=(42, 47), match='Mrs F'>\n",
      "<re.Match object; span=(49, 57), match='Ms Gilbe'>\n"
     ]
    }
   ],
   "source": [
    "search_me = \"Mr. T Mrs. Robinson Mr Smith Mr. Freeman, Mrs F, Ms Gilbe\"\n",
    "\n",
    "pattern = re.compile(r'M(r|s|rs)\\.? \\w*') #(groups)\n",
    "#.? states it can be 1 or 0 of any character before [^b]\n",
    "\n",
    "matches = pattern.finditer(search_me)\n",
    "for match in matches:\n",
    "    print(match)"
   ]
  },
  {
   "cell_type": "markdown",
   "metadata": {},
   "source": [
    "### Using Groups"
   ]
  },
  {
   "cell_type": "code",
   "execution_count": 27,
   "metadata": {},
   "outputs": [
    {
     "name": "stdout",
     "output_type": "stream",
     "text": [
      "('www.', 'google', '.com')\n",
      "(None, 'coreys', '.com')\n",
      "(None, 'youtube', '.com')\n",
      "('www.', 'nasa', '.gov')\n",
      "\n",
      "            google.com \n",
      "            coreys.com \n",
      "            youtube.com \n",
      "            nasa.gov\n",
      "            \n"
     ]
    }
   ],
   "source": [
    "search_me = '''\n",
    "            https://www.google.com \n",
    "            http://coreys.com \n",
    "            https://youtube.com \n",
    "            https://www.nasa.gov\n",
    "            '''\n",
    "pattern = re.compile(r'https?://(www\\.)?(\\w+)(\\.\\w+)') #(groups)\n",
    "\n",
    "matches = pattern.finditer(search_me)\n",
    "for match in matches:\n",
    "    print(match.group(1, 2,3)) #using groups to extract features.\n",
    "    \n",
    "##using patterns to substitute\n",
    "\n",
    "subbed = pattern.sub(r'\\2\\3', search_me) #\\2 group 2, \\3 group 3.\n",
    "print(subbed)"
   ]
  },
  {
   "cell_type": "code",
   "execution_count": null,
   "metadata": {},
   "outputs": [],
   "source": []
  },
  {
   "cell_type": "code",
   "execution_count": null,
   "metadata": {},
   "outputs": [],
   "source": []
  },
  {
   "cell_type": "code",
   "execution_count": null,
   "metadata": {},
   "outputs": [],
   "source": []
  }
 ],
 "metadata": {
  "kernelspec": {
   "display_name": "Python 3",
   "language": "python",
   "name": "python3"
  },
  "language_info": {
   "codemirror_mode": {
    "name": "ipython",
    "version": 3
   },
   "file_extension": ".py",
   "mimetype": "text/x-python",
   "name": "python",
   "nbconvert_exporter": "python",
   "pygments_lexer": "ipython3",
   "version": "3.7.3"
  }
 },
 "nbformat": 4,
 "nbformat_minor": 2
}
